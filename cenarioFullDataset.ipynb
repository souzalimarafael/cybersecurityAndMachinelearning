{
 "cells": [
  {
   "cell_type": "code",
   "execution_count": 1,
   "metadata": {},
   "outputs": [],
   "source": [
    "import pandas as pd\n",
    "import glob\n",
    "\n",
    "path = \"Neural Network/Dados/\"\n",
    "all_files = glob.glob(path + \"*.binetflow\")\n",
    "\n",
    "dataframes = []\n",
    "\n",
    "# Loop para ler cada arquivo e adicionar o dataframe à lista\n",
    "for filename in all_files:\n",
    "    df = pd.read_csv(filename)\n",
    "    df['Label'] = df.Label.str.contains(\"Botnet\")\n",
    "    dataframes.append(df)\n",
    "\n",
    "# Concatena todos os dataframes em um único dataframe\n",
    "data = pd.concat(dataframes, ignore_index=True)"
   ]
  },
  {
   "cell_type": "code",
   "execution_count": 2,
   "metadata": {},
   "outputs": [
    {
     "data": {
      "text/plain": [
       "Index(['StartTime', 'Dur', 'Proto', 'SrcAddr', 'Sport', 'Dir', 'DstAddr',\n",
       "       'Dport', 'State', 'sTos', 'dTos', 'TotPkts', 'TotBytes', 'SrcBytes',\n",
       "       'Label'],\n",
       "      dtype='object')"
      ]
     },
     "execution_count": 2,
     "metadata": {},
     "output_type": "execute_result"
    }
   ],
   "source": [
    "data.columns"
   ]
  },
  {
   "cell_type": "code",
   "execution_count": 3,
   "metadata": {},
   "outputs": [],
   "source": [
    "import LoadData\n",
    "import DataPreparation\n",
    "import pickle\n",
    "file = open('flowdata.pickle', 'rb')\n",
    "data  = pickle.load(file, encoding='latin1')"
   ]
  },
  {
   "cell_type": "code",
   "execution_count": 4,
   "metadata": {},
   "outputs": [],
   "source": [
    "Xdata = data[0]\n",
    "Ydata =  data[1]\n",
    "XdataT = data[2]\n",
    "YdataT = data[3]"
   ]
  },
  {
   "cell_type": "code",
   "execution_count": 5,
   "metadata": {},
   "outputs": [],
   "source": [
    "from sklearn.linear_model import *\n",
    "from sklearn.tree import *\n",
    "from sklearn.naive_bayes import *\n",
    "from sklearn.neighbors import *"
   ]
  },
  {
   "cell_type": "code",
   "execution_count": 6,
   "metadata": {},
   "outputs": [
    {
     "data": {
      "text/plain": [
       "<Prepare(Thread-6, initial)>"
      ]
     },
     "execution_count": 6,
     "metadata": {},
     "output_type": "execute_result"
    }
   ],
   "source": [
    "DataPreparation.Prepare(Xdata,Ydata,XdataT,YdataT)"
   ]
  },
  {
   "cell_type": "markdown",
   "metadata": {},
   "source": [
    "Modelo de árvore de decisão:"
   ]
  },
  {
   "cell_type": "code",
   "execution_count": 7,
   "metadata": {},
   "outputs": [
    {
     "name": "stdout",
     "output_type": "stream",
     "text": [
      "Acuracia: 0.9996250468691413\n",
      "Precisao: 0.9992563212692117\n",
      "Sensitividade: 1.0\n",
      "F1-Score: 0.999628022318661\n",
      "Tempo de processamento: 5.56 segundos\n"
     ]
    }
   ],
   "source": [
    "from sklearn.model_selection import train_test_split, GridSearchCV\n",
    "from imblearn.under_sampling import RandomUnderSampler\n",
    "from sklearn.metrics import accuracy_score, precision_score, recall_score, f1_score\n",
    "import time\n",
    "\n",
    "X_train, X_test, y_train, y_test = train_test_split(Xdata, Ydata, test_size=0.2, random_state=42)\n",
    "\n",
    "rus = RandomUnderSampler(random_state=42)\n",
    "X_train_resampled, y_train_resampled = rus.fit_resample(X_train, y_train)\n",
    "\n",
    "params = {'max_depth': [3, 5, 7], 'min_samples_split': [2, 5, 10], 'min_samples_leaf': [1, 2, 4]}\n",
    "clf = GridSearchCV(DecisionTreeClassifier(random_state=42), params, cv=5)\n",
    "\n",
    "start_time = time.time()\n",
    "clf.fit(X_train_resampled, y_train_resampled)\n",
    "end_time = time.time()\n",
    "\n",
    "processing_time = end_time - start_time\n",
    "\n",
    "y_pred = clf.predict(X_test)\n",
    "\n",
    "# Calculando as métricas\n",
    "accuracy = accuracy_score(y_test, y_pred)\n",
    "precision = precision_score(y_test, y_pred)\n",
    "recall = recall_score(y_test, y_pred)\n",
    "f1 = f1_score(y_test, y_pred)\n",
    "\n",
    "# Imprimindo as métricas\n",
    "print(\"Acuracia:\", accuracy)\n",
    "print(\"Precisao:\", precision)\n",
    "print(\"Sensitividade:\", recall)\n",
    "print(\"F1-Score:\", f1)\n",
    "print(\"Tempo de processamento:\", round(processing_time, 2), \"segundos\")\n",
    "\n",
    "# Armazenando as métricas nas variáveis\n",
    "ad_acuracia = round(accuracy * 100, 2)\n",
    "ad_precisao = round(precision * 100, 2)\n",
    "ad_sensitividade = round(recall * 100, 2)\n",
    "ad_f1score = round(f1 * 100, 2)\n",
    "ad_time = round(processing_time, 2)"
   ]
  },
  {
   "cell_type": "markdown",
   "metadata": {},
   "source": [
    "Modelo de regressão logística :"
   ]
  },
  {
   "cell_type": "code",
   "execution_count": 8,
   "metadata": {},
   "outputs": [
    {
     "name": "stdout",
     "output_type": "stream",
     "text": [
      "Acuracia: 0.9683063387322536\n",
      "Precisao: 0.941387108933283\n",
      "Sensitividade: 0.9988002399520096\n",
      "F1-score: 0.9692442029688562\n",
      "Tempo de processamento: 4.91 segundos\n"
     ]
    }
   ],
   "source": [
    "from sklearn.linear_model import LogisticRegression\n",
    "from sklearn.model_selection import train_test_split\n",
    "from sklearn.preprocessing import StandardScaler\n",
    "from sklearn.feature_selection import SelectKBest, f_classif\n",
    "from sklearn.pipeline import Pipeline\n",
    "from sklearn.model_selection import GridSearchCV\n",
    "from sklearn.metrics import precision_score, recall_score, f1_score\n",
    "import time\n",
    "\n",
    "scaler = StandardScaler()\n",
    "Xdata = scaler.fit_transform(Xdata)\n",
    "XdataT = scaler.transform(XdataT)\n",
    "\n",
    "selector = SelectKBest(f_classif, k='all')\n",
    "Xdata = selector.fit_transform(Xdata, Ydata)\n",
    "XdataT = selector.transform(XdataT)\n",
    "\n",
    "pipeline = Pipeline([\n",
    "    ('clf', LogisticRegression())\n",
    "])\n",
    "\n",
    "parameters = {\n",
    "    'clf__C': [0.001, 0.01, 0.1, 1, 10, 100, 1000, 10000]\n",
    "}\n",
    "\n",
    "clf = GridSearchCV(pipeline, parameters, cv=5)\n",
    "\n",
    "start_time = time.time()\n",
    "clf.fit(Xdata, Ydata)\n",
    "end_time = time.time()\n",
    "\n",
    "processing_time = end_time - start_time\n",
    "\n",
    "# Calculando as métricas\n",
    "Score = clf.score(XdataT, YdataT)\n",
    "Prediction = clf.predict(XdataT)\n",
    "precision = precision_score(YdataT, Prediction)\n",
    "recall = recall_score(YdataT, Prediction)\n",
    "f1 = f1_score(YdataT, Prediction)\n",
    "\n",
    "# Imprimindo as métricas\n",
    "print(\"Acuracia:\", Score)\n",
    "print(\"Precisao:\", precision)\n",
    "print(\"Sensitividade:\", recall)\n",
    "print(\"F1-score:\", f1)\n",
    "print(\"Tempo de processamento:\", round(processing_time, 2), \"segundos\")\n",
    "\n",
    "# Armazenando as métricas nas variáveis\n",
    "rl_acuracia = round(Score * 100, 2)\n",
    "rl_precisao = round(precision * 100, 2)\n",
    "rl_sensitividade = round(recall * 100, 2)\n",
    "rl_f1score = round(f1 * 100, 2)\n",
    "rl_time = round(processing_time, 2)"
   ]
  },
  {
   "cell_type": "markdown",
   "metadata": {},
   "source": [
    "Modelo Gaussiano Naive Bayes :"
   ]
  },
  {
   "cell_type": "code",
   "execution_count": 9,
   "metadata": {},
   "outputs": [
    {
     "name": "stdout",
     "output_type": "stream",
     "text": [
      "Acuracia: 0.9819036192761448\n",
      "Precisao: 0.9663312693498453\n",
      "Sensitividade: 0.9986002799440112\n",
      "F1-score: 0.982200806372308\n",
      "Tempo de processamento: 0.8 segundos\n"
     ]
    }
   ],
   "source": [
    "from sklearn.naive_bayes import GaussianNB\n",
    "from sklearn.metrics import precision_score, recall_score, f1_score\n",
    "from sklearn.model_selection import GridSearchCV\n",
    "from sklearn.feature_selection import SelectKBest, f_classif\n",
    "from sklearn.pipeline import Pipeline\n",
    "from sklearn.preprocessing import StandardScaler\n",
    "import time\n",
    "\n",
    "# Pré-processamento de dados\n",
    "scaler = StandardScaler()\n",
    "Xdata = scaler.fit_transform(Xdata)\n",
    "XdataT = scaler.transform(XdataT)\n",
    "\n",
    "# Seleção de recursos\n",
    "selector = SelectKBest(f_classif, k='all')\n",
    "Xdata = selector.fit_transform(Xdata, Ydata)\n",
    "XdataT = selector.transform(XdataT)\n",
    "\n",
    "# Ajuste de hiperparâmetros\n",
    "pipeline = Pipeline([\n",
    "    ('clf', GaussianNB())\n",
    "])\n",
    "\n",
    "parameters = {\n",
    "    'clf__var_smoothing': [1e-10, 1e-9, 1e-8, 1e-7, 1e-6, 1e-5, 1e-4, 1e-3, 1e-2]\n",
    "}\n",
    "\n",
    "clf = GridSearchCV(pipeline, parameters, cv=5)\n",
    "\n",
    "# Medindo o tempo de processamento do treinamento do modelo\n",
    "start_time = time.time()\n",
    "clf.fit(Xdata, Ydata)\n",
    "end_time = time.time()\n",
    "\n",
    "# Calculando o tempo de processamento\n",
    "processing_time = end_time - start_time\n",
    "\n",
    "# Avaliação do modelo\n",
    "Prediction = clf.predict(XdataT)\n",
    "Score = clf.score(XdataT, YdataT)\n",
    "precision = precision_score(YdataT, Prediction)\n",
    "recall = recall_score(YdataT, Prediction)\n",
    "f1 = f1_score(YdataT, Prediction)\n",
    "\n",
    "#métricas\n",
    "print(\"Acuracia:\", Score)\n",
    "print(\"Precisao:\", precision)\n",
    "print(\"Sensitividade:\", recall)\n",
    "print(\"F1-score:\", f1)\n",
    "print(\"Tempo de processamento:\", round(processing_time, 2), \"segundos\")\n",
    "\n",
    "nb_acuracia = round(Score * 100, 2)\n",
    "nb_precisao = round(precision * 100, 2)\n",
    "nb_sensitividade = round(recall * 100, 2)\n",
    "nb_f1score = round(f1 * 100, 2)\n",
    "nb_time = round(processing_time, 2)"
   ]
  },
  {
   "cell_type": "markdown",
   "metadata": {},
   "source": [
    "Modelo de k-vizinhos mais próximos :"
   ]
  },
  {
   "cell_type": "code",
   "execution_count": 10,
   "metadata": {},
   "outputs": [
    {
     "name": "stdout",
     "output_type": "stream",
     "text": [
      "Acuracia: 0.9908018396320736\n",
      "Precisao: 0.9832644221303406\n",
      "Sensibilidade: 0.9986002799440112\n",
      "F1-score: 0.9908730158730158\n",
      "Tempo de processamento: 0.27 segundos\n"
     ]
    }
   ],
   "source": [
    "from sklearn.neighbors import KNeighborsClassifier\n",
    "from sklearn.metrics import accuracy_score, precision_score, recall_score, f1_score\n",
    "import time\n",
    "\n",
    "# Criando o classificador\n",
    "clf = KNeighborsClassifier()\n",
    "\n",
    "# Treinando o modelo\n",
    "start_time = time.time()\n",
    "clf.fit(Xdata, Ydata)\n",
    "end_time = time.time()\n",
    "\n",
    "# Calculando o tempo de processamento\n",
    "processing_time = end_time - start_time\n",
    "\n",
    "# Fazendo previsões\n",
    "Prediction = clf.predict(XdataT)\n",
    "\n",
    "# Calculando as métricas\n",
    "accuracy = accuracy_score(YdataT, Prediction)\n",
    "precision = precision_score(YdataT, Prediction)\n",
    "recall = recall_score(YdataT, Prediction)\n",
    "f1 = f1_score(YdataT, Prediction)\n",
    "\n",
    "# Imprimindo as métricas\n",
    "print(\"Acuracia:\", accuracy)\n",
    "print(\"Precisao:\", precision)\n",
    "print(\"Sensibilidade:\", recall)\n",
    "print(\"F1-score:\", f1)\n",
    "print(\"Tempo de processamento:\", round(processing_time, 2), \"segundos\")\n",
    "\n",
    "knn_acuracia =  round(accuracy * 100, 2)\n",
    "knn_precisao = round(precision * 100, 2)\n",
    "knn_sensitividade = round(recall * 100, 2)\n",
    "knn_f1score = round(f1 * 100, 2)\n",
    "knn_time = round(processing_time, 2)"
   ]
  },
  {
   "cell_type": "markdown",
   "metadata": {},
   "source": [
    "Modelo de rede neural :"
   ]
  },
  {
   "cell_type": "code",
   "execution_count": 12,
   "metadata": {},
   "outputs": [
    {
     "name": "stdout",
     "output_type": "stream",
     "text": [
      "Epoch 1/150\n"
     ]
    },
    {
     "name": "stderr",
     "output_type": "stream",
     "text": [
      "D:\\Anaconda\\lib\\site-packages\\keras\\optimizers\\legacy\\adam.py:117: UserWarning: The `lr` argument is deprecated, use `learning_rate` instead.\n",
      "  super().__init__(name, **kwargs)\n"
     ]
    },
    {
     "name": "stdout",
     "output_type": "stream",
     "text": [
      "501/501 [==============================] - 5s 7ms/step - loss: 0.1411 - accuracy: 0.9576 - val_loss: 0.0322 - val_accuracy: 0.9950\n",
      "Epoch 2/150\n",
      "501/501 [==============================] - 3s 7ms/step - loss: 0.0866 - accuracy: 0.9778 - val_loss: 0.0122 - val_accuracy: 0.9998\n",
      "Epoch 3/150\n",
      "501/501 [==============================] - 4s 7ms/step - loss: 0.0800 - accuracy: 0.9795 - val_loss: 0.0246 - val_accuracy: 0.9996\n",
      "Epoch 4/150\n",
      "501/501 [==============================] - 4s 8ms/step - loss: 0.0762 - accuracy: 0.9799 - val_loss: 0.0205 - val_accuracy: 0.9988\n",
      "Epoch 5/150\n",
      "501/501 [==============================] - 4s 7ms/step - loss: 0.0724 - accuracy: 0.9813 - val_loss: 0.0176 - val_accuracy: 0.9983\n",
      "Epoch 6/150\n",
      "501/501 [==============================] - 3s 7ms/step - loss: 0.0681 - accuracy: 0.9816 - val_loss: 0.0227 - val_accuracy: 0.9989\n",
      "Epoch 7/150\n",
      "501/501 [==============================] - 4s 8ms/step - loss: 0.0675 - accuracy: 0.9813 - val_loss: 0.0194 - val_accuracy: 0.9980\n",
      "Epoch 8/150\n",
      "501/501 [==============================] - 4s 7ms/step - loss: 0.0682 - accuracy: 0.9814 - val_loss: 0.0110 - val_accuracy: 0.9996\n",
      "Epoch 9/150\n",
      "501/501 [==============================] - 3s 7ms/step - loss: 0.0653 - accuracy: 0.9826 - val_loss: 0.0160 - val_accuracy: 0.9989\n",
      "Epoch 10/150\n",
      "501/501 [==============================] - 3s 7ms/step - loss: 0.0625 - accuracy: 0.9830 - val_loss: 0.0137 - val_accuracy: 0.9983\n",
      "Epoch 11/150\n",
      "501/501 [==============================] - 3s 7ms/step - loss: 0.0624 - accuracy: 0.9829 - val_loss: 0.0135 - val_accuracy: 0.9991\n",
      "Epoch 12/150\n",
      "501/501 [==============================] - 3s 7ms/step - loss: 0.0603 - accuracy: 0.9834 - val_loss: 0.0137 - val_accuracy: 0.9993\n",
      "Epoch 13/150\n",
      "501/501 [==============================] - 3s 7ms/step - loss: 0.0583 - accuracy: 0.9838 - val_loss: 0.0175 - val_accuracy: 0.9953\n",
      "Epoch 14/150\n",
      "501/501 [==============================] - 3s 7ms/step - loss: 0.0591 - accuracy: 0.9830 - val_loss: 0.0160 - val_accuracy: 0.9989\n",
      "Epoch 15/150\n",
      "501/501 [==============================] - 3s 7ms/step - loss: 0.0573 - accuracy: 0.9839 - val_loss: 0.0108 - val_accuracy: 0.9991\n",
      "Epoch 16/150\n",
      "501/501 [==============================] - 3s 7ms/step - loss: 0.0578 - accuracy: 0.9834 - val_loss: 0.0114 - val_accuracy: 0.9991\n",
      "Epoch 17/150\n",
      "501/501 [==============================] - 3s 7ms/step - loss: 0.0550 - accuracy: 0.9842 - val_loss: 0.0069 - val_accuracy: 0.9999\n",
      "Epoch 18/150\n",
      "501/501 [==============================] - 3s 7ms/step - loss: 0.0550 - accuracy: 0.9849 - val_loss: 0.0194 - val_accuracy: 0.9954\n",
      "Epoch 19/150\n",
      "501/501 [==============================] - 3s 7ms/step - loss: 0.0545 - accuracy: 0.9841 - val_loss: 0.0080 - val_accuracy: 0.9990\n",
      "Epoch 20/150\n",
      "501/501 [==============================] - 3s 7ms/step - loss: 0.0511 - accuracy: 0.9849 - val_loss: 0.0132 - val_accuracy: 0.9961\n",
      "Epoch 21/150\n",
      "501/501 [==============================] - 3s 7ms/step - loss: 0.0509 - accuracy: 0.9859 - val_loss: 0.0137 - val_accuracy: 0.9990\n",
      "Epoch 22/150\n",
      "501/501 [==============================] - 3s 7ms/step - loss: 0.0524 - accuracy: 0.9852 - val_loss: 0.0138 - val_accuracy: 0.9990\n",
      "Epoch 23/150\n",
      "501/501 [==============================] - 3s 7ms/step - loss: 0.0495 - accuracy: 0.9858 - val_loss: 0.0114 - val_accuracy: 0.9990\n",
      "Epoch 24/150\n",
      "501/501 [==============================] - 3s 7ms/step - loss: 0.0497 - accuracy: 0.9859 - val_loss: 0.0149 - val_accuracy: 0.9978\n",
      "Epoch 25/150\n",
      "501/501 [==============================] - 3s 7ms/step - loss: 0.0482 - accuracy: 0.9861 - val_loss: 0.0143 - val_accuracy: 0.9990\n",
      "Epoch 26/150\n",
      "501/501 [==============================] - 3s 7ms/step - loss: 0.0484 - accuracy: 0.9860 - val_loss: 0.0061 - val_accuracy: 0.9994\n",
      "Epoch 27/150\n",
      "501/501 [==============================] - 3s 7ms/step - loss: 0.0497 - accuracy: 0.9856 - val_loss: 0.0090 - val_accuracy: 0.9996\n",
      "Epoch 28/150\n",
      "501/501 [==============================] - 3s 7ms/step - loss: 0.0465 - accuracy: 0.9870 - val_loss: 0.0121 - val_accuracy: 0.9989\n",
      "Epoch 29/150\n",
      "501/501 [==============================] - 3s 7ms/step - loss: 0.0460 - accuracy: 0.9865 - val_loss: 0.0065 - val_accuracy: 0.9989\n",
      "Epoch 30/150\n",
      "501/501 [==============================] - 3s 7ms/step - loss: 0.0465 - accuracy: 0.9863 - val_loss: 0.0076 - val_accuracy: 0.9993\n",
      "Epoch 31/150\n",
      "501/501 [==============================] - 3s 7ms/step - loss: 0.0436 - accuracy: 0.9874 - val_loss: 0.0089 - val_accuracy: 0.9990\n",
      "Epoch 32/150\n",
      "501/501 [==============================] - 3s 7ms/step - loss: 0.0461 - accuracy: 0.9876 - val_loss: 0.0091 - val_accuracy: 0.9989\n",
      "Epoch 33/150\n",
      "501/501 [==============================] - 3s 7ms/step - loss: 0.0426 - accuracy: 0.9877 - val_loss: 0.0055 - val_accuracy: 0.9989\n",
      "Epoch 34/150\n",
      "501/501 [==============================] - 3s 7ms/step - loss: 0.0435 - accuracy: 0.9874 - val_loss: 0.0060 - val_accuracy: 0.9989\n",
      "Epoch 35/150\n",
      "501/501 [==============================] - 3s 7ms/step - loss: 0.0437 - accuracy: 0.9872 - val_loss: 0.0063 - val_accuracy: 0.9991\n",
      "Epoch 36/150\n",
      "501/501 [==============================] - 3s 7ms/step - loss: 0.0416 - accuracy: 0.9880 - val_loss: 0.0096 - val_accuracy: 0.9990\n",
      "Epoch 37/150\n",
      "501/501 [==============================] - 3s 7ms/step - loss: 0.0418 - accuracy: 0.9876 - val_loss: 0.0087 - val_accuracy: 0.9990\n",
      "Epoch 38/150\n",
      "501/501 [==============================] - 3s 6ms/step - loss: 0.0452 - accuracy: 0.9866 - val_loss: 0.0061 - val_accuracy: 0.9990\n",
      "Epoch 39/150\n",
      "501/501 [==============================] - 3s 7ms/step - loss: 0.0417 - accuracy: 0.9874 - val_loss: 0.0055 - val_accuracy: 0.9993\n",
      "Epoch 40/150\n",
      "501/501 [==============================] - 3s 6ms/step - loss: 0.0405 - accuracy: 0.9888 - val_loss: 0.0062 - val_accuracy: 0.9989\n",
      "Epoch 41/150\n",
      "501/501 [==============================] - 3s 7ms/step - loss: 0.0405 - accuracy: 0.9882 - val_loss: 0.0143 - val_accuracy: 0.9961\n",
      "Epoch 42/150\n",
      "501/501 [==============================] - 3s 7ms/step - loss: 0.0400 - accuracy: 0.9883 - val_loss: 0.0070 - val_accuracy: 0.9981\n",
      "Epoch 43/150\n",
      "501/501 [==============================] - 3s 6ms/step - loss: 0.0397 - accuracy: 0.9887 - val_loss: 0.0058 - val_accuracy: 0.9988\n",
      "Epoch 44/150\n",
      "501/501 [==============================] - 3s 7ms/step - loss: 0.0400 - accuracy: 0.9884 - val_loss: 0.0075 - val_accuracy: 0.9994\n",
      "Epoch 45/150\n",
      "501/501 [==============================] - 3s 6ms/step - loss: 0.0392 - accuracy: 0.9883 - val_loss: 0.0061 - val_accuracy: 0.9993\n",
      "Epoch 46/150\n",
      "501/501 [==============================] - 3s 6ms/step - loss: 0.0391 - accuracy: 0.9882 - val_loss: 0.0064 - val_accuracy: 0.9984\n",
      "Epoch 47/150\n",
      "501/501 [==============================] - 3s 7ms/step - loss: 0.0388 - accuracy: 0.9884 - val_loss: 0.0082 - val_accuracy: 0.9993\n",
      "Epoch 48/150\n",
      "501/501 [==============================] - 3s 7ms/step - loss: 0.0376 - accuracy: 0.9887 - val_loss: 0.0033 - val_accuracy: 0.9996\n",
      "Epoch 49/150\n",
      "501/501 [==============================] - 3s 7ms/step - loss: 0.0375 - accuracy: 0.9892 - val_loss: 0.0056 - val_accuracy: 1.0000\n",
      "Epoch 50/150\n",
      "501/501 [==============================] - 3s 7ms/step - loss: 0.0391 - accuracy: 0.9885 - val_loss: 0.0043 - val_accuracy: 0.9990\n",
      "Epoch 51/150\n",
      "501/501 [==============================] - 3s 7ms/step - loss: 0.0381 - accuracy: 0.9885 - val_loss: 0.0059 - val_accuracy: 0.9994\n",
      "Epoch 52/150\n",
      "501/501 [==============================] - 3s 6ms/step - loss: 0.0379 - accuracy: 0.9883 - val_loss: 0.0070 - val_accuracy: 0.9990\n",
      "Epoch 53/150\n",
      "501/501 [==============================] - 3s 7ms/step - loss: 0.0375 - accuracy: 0.9889 - val_loss: 0.0053 - val_accuracy: 0.9990\n",
      "Epoch 54/150\n",
      "501/501 [==============================] - 3s 7ms/step - loss: 0.0402 - accuracy: 0.9881 - val_loss: 0.0111 - val_accuracy: 0.9991\n",
      "Epoch 55/150\n",
      "501/501 [==============================] - 4s 7ms/step - loss: 0.0395 - accuracy: 0.9883 - val_loss: 0.0060 - val_accuracy: 0.9990\n",
      "Epoch 56/150\n",
      "501/501 [==============================] - 3s 7ms/step - loss: 0.0377 - accuracy: 0.9886 - val_loss: 0.0053 - val_accuracy: 0.9990\n",
      "Epoch 57/150\n",
      "501/501 [==============================] - 3s 7ms/step - loss: 0.0382 - accuracy: 0.9886 - val_loss: 0.0070 - val_accuracy: 0.9990\n",
      "Epoch 58/150\n"
     ]
    },
    {
     "name": "stdout",
     "output_type": "stream",
     "text": [
      "501/501 [==============================] - 3s 6ms/step - loss: 0.0365 - accuracy: 0.9890 - val_loss: 0.0040 - val_accuracy: 0.9995\n",
      "313/313 [==============================] - 1s 2ms/step\n",
      "Acuracia: 0.9823035597801208\n",
      "Precisao: 0.9672607516466486\n",
      "Sensitividade: 0.9984003199360127\n",
      "F1-score: 0.9825838827117976\n",
      "Tempo de processamento: 196.17 segundos\n"
     ]
    }
   ],
   "source": [
    "from keras.models import Sequential\n",
    "from keras.layers import Dense, Activation, Dropout\n",
    "from keras.optimizers import Adam\n",
    "from sklearn.preprocessing import StandardScaler\n",
    "from sklearn.decomposition import PCA\n",
    "from keras.callbacks import EarlyStopping\n",
    "from keras import regularizers\n",
    "from sklearn.metrics import precision_score, recall_score, f1_score\n",
    "import time\n",
    "\n",
    "# normaliza os dados\n",
    "scaler = StandardScaler()\n",
    "Xdata_norm = scaler.fit_transform(Xdata)\n",
    "XdataT_norm = scaler.transform(XdataT)\n",
    "\n",
    "# reduz a dimensionalidade dos dados\n",
    "pca = PCA(n_components=5)\n",
    "Xdata_pca = pca.fit_transform(Xdata_norm)\n",
    "XdataT_pca = pca.transform(XdataT_norm)\n",
    "\n",
    "# define a arquitetura da rede neural\n",
    "model = Sequential()\n",
    "model.add(Dense(512, input_dim=Xdata_pca.shape[1], activation=\"relu\"))\n",
    "model.add(Dropout(0.2))\n",
    "model.add(Dense(256, activation=\"relu\"))\n",
    "model.add(Dropout(0.2))\n",
    "model.add(Dense(128, activation=\"relu\"))\n",
    "model.add(Dropout(0.2))\n",
    "model.add(Dense(64, activation=\"relu\"))\n",
    "model.add(Dropout(0.2))\n",
    "model.add(Dense(32, activation=\"relu\"))\n",
    "model.add(Dropout(0.2))\n",
    "model.add(Dense(16, activation=\"relu\"))\n",
    "model.add(Dropout(0.2))\n",
    "model.add(Dense(8, activation=\"relu\"))\n",
    "model.add(Dense(1, activation=\"sigmoid\", kernel_regularizer=regularizers.l1_l2(l1=0.001, l2=0.001)))\n",
    "\n",
    "# compila a rede neural\n",
    "optimizer = Adam(lr=0.0005, decay=1e-6)\n",
    "model.compile(loss='binary_crossentropy', optimizer=optimizer, metrics=['accuracy'])\n",
    "\n",
    "# treina a rede neural\n",
    "start_time = time.time()\n",
    "early_stopping = EarlyStopping(monitor='val_loss', patience=10)\n",
    "model.fit(Xdata_pca, Ydata, epochs=150, batch_size=64, validation_split=0.2, callbacks=[early_stopping])\n",
    "end_time = time.time()\n",
    "\n",
    "# Calculando o tempo de processamento\n",
    "processing_time = end_time - start_time\n",
    "\n",
    "# avalia a rede neural\n",
    "loss, accuracy = model.evaluate(XdataT_pca, YdataT, verbose=0)\n",
    "Y_pred = model.predict(XdataT_pca)\n",
    "Y_pred_class = (Y_pred > 0.5).astype(int)\n",
    "precision = precision_score(YdataT, Y_pred_class)\n",
    "recall = recall_score(YdataT, Y_pred_class)\n",
    "f1 = f1_score(YdataT, Y_pred_class)\n",
    "\n",
    "#métricas\n",
    "print(\"Acuracia:\", accuracy)\n",
    "print(\"Precisao:\", precision)\n",
    "print(\"Sensitividade:\", recall)\n",
    "print(\"F1-score:\", f1)\n",
    "print(\"Tempo de processamento:\", round(processing_time, 2), \"segundos\")\n",
    "\n",
    "rn_acuracia = round(accuracy * 100, 2)\n",
    "rn_precisao = round(precision * 100, 2)\n",
    "rn_sensitividade = round(recall * 100, 2)\n",
    "rn_f1score = round(f1 * 100, 2)\n",
    "rn_time = round(processing_time, 2)"
   ]
  },
  {
   "cell_type": "markdown",
   "metadata": {},
   "source": [
    "Resultados - Acuracia"
   ]
  },
  {
   "cell_type": "code",
   "execution_count": 25,
   "metadata": {},
   "outputs": [
    {
     "data": {
      "image/png": "[encoded data removed]",
      "text/plain": [
       "<Figure size 432x288 with 1 Axes>"
      ]
     },
     "metadata": {
      "needs_background": "light"
     },
     "output_type": "display_data"
    }
   ],
   "source": [
    "import matplotlib.pyplot as plt\n",
    "\n",
    "# Dados\n",
    "dados = [ad_acuracia, rl_acuracia, nb_acuracia, knn_acuracia, rn_acuracia]\n",
    "\n",
    "# Criando lista de índices para o eixo x\n",
    "indices = ['Arvore D.', 'Regressao L.', 'NBG', ' K-NN', 'Redes Neurais']\n",
    "\n",
    "# Criando lista de cores para cada barra\n",
    "cores = ['#003f5c', '#2f4b7c', '#665191', '#a05195', '#d45087']\n",
    "\n",
    "# Criando figura e eixos\n",
    "fig, ax = plt.subplots()\n",
    "\n",
    "# Adicionando barras ao gráfico\n",
    "ax.bar(indices, dados, color=cores)\n",
    "\n",
    "# Definindo limites para o eixo y\n",
    "ax.set_ylim(80, 100.5)\n",
    "\n",
    "# Definindo valores para o eixo y e ajustando posição do rótulo\n",
    "ax.set_yticks([80, 85, 90, 95, 100])\n",
    "ax.yaxis.set_label_coords(-0.1, 0.5)\n",
    "\n",
    "# Adicionando rótulos aos eixos\n",
    "ax.set_ylabel('Porcentagens em %')\n",
    "\n",
    "# Adicionando título\n",
    "fig.suptitle('Acurácia')\n",
    "\n",
    "# Exibindo o gráfico\n",
    "plt.show()"
   ]
  },
  {
   "cell_type": "markdown",
   "metadata": {},
   "source": [
    "Resultados - Precisão"
   ]
  },
  {
   "cell_type": "code",
   "execution_count": 26,
   "metadata": {},
   "outputs": [
    {
     "data": {
      "image/png": "[encoded data removed]",
      "text/plain": [
       "<Figure size 432x288 with 1 Axes>"
      ]
     },
     "metadata": {
      "needs_background": "light"
     },
     "output_type": "display_data"
    }
   ],
   "source": [
    "import matplotlib.pyplot as plt\n",
    "\n",
    "# Dados\n",
    "dados = [ad_precisao, rl_precisao, nb_precisao, knn_precisao, rn_precisao]\n",
    "\n",
    "# Criando lista de índices para o eixo x\n",
    "indices = ['Arvore D.', 'Regressao L.', 'NBG', ' K-NN', 'Redes Neurais']\n",
    "\n",
    "# Criando lista de cores para cada barra\n",
    "cores = ['#003f5c', '#2f4b7c', '#665191', '#a05195', '#d45087']\n",
    "\n",
    "# Criando figura e eixos\n",
    "fig, ax = plt.subplots()\n",
    "\n",
    "# Adicionando barras ao gráfico\n",
    "ax.bar(indices, dados, color=cores)\n",
    "\n",
    "# Definindo limites para o eixo y\n",
    "ax.set_ylim(80, 100.5)\n",
    "\n",
    "# Definindo valores para o eixo y e ajustando posição do rótulo\n",
    "ax.set_yticks([80, 85, 90, 95, 100])\n",
    "ax.yaxis.set_label_coords(-0.1, 0.5)\n",
    "\n",
    "# Adicionando rótulos aos eixos\n",
    "ax.set_ylabel('Porcentagens em %')\n",
    "\n",
    "# Adicionando título\n",
    "fig.suptitle('Precisão')\n",
    "\n",
    "# Exibindo o gráfico\n",
    "plt.show()"
   ]
  },
  {
   "cell_type": "markdown",
   "metadata": {},
   "source": [
    "Resultados - Sensitividade"
   ]
  },
  {
   "cell_type": "code",
   "execution_count": 27,
   "metadata": {
    "scrolled": true
   },
   "outputs": [
    {
     "data": {
      "image/png": "[encoded data removed]",
      "text/plain": [
       "<Figure size 432x288 with 1 Axes>"
      ]
     },
     "metadata": {
      "needs_background": "light"
     },
     "output_type": "display_data"
    }
   ],
   "source": [
    "import matplotlib.pyplot as plt\n",
    "\n",
    "# Dados\n",
    "dados = [ad_sensitividade, rl_sensitividade, nb_sensitividade, knn_sensitividade, rn_sensitividade]\n",
    "\n",
    "# Criando lista de índices para o eixo x\n",
    "indices = ['Arvore D.', 'Regressao L.', 'NBG', ' K-NN', 'Redes Neurais']\n",
    "\n",
    "# Criando lista de cores para cada barra\n",
    "cores = ['#003f5c', '#2f4b7c', '#665191', '#a05195', '#d45087']\n",
    "\n",
    "# Criando figura e eixos\n",
    "fig, ax = plt.subplots()\n",
    "\n",
    "# Adicionando barras ao gráfico\n",
    "ax.bar(indices, dados, color=cores)\n",
    "\n",
    "# Definindo limites para o eixo y\n",
    "ax.set_ylim(95, 100.5)\n",
    "\n",
    "# Definindo valores para o eixo y e ajustando posição do rótulo\n",
    "ax.set_yticks([96, 97, 98, 99, 100])\n",
    "ax.yaxis.set_label_coords(-0.1, 0.5)\n",
    "\n",
    "# Adicionando rótulos aos eixos\n",
    "ax.set_ylabel('Porcentagens em %')\n",
    "\n",
    "# Adicionando título\n",
    "fig.suptitle('Sensitividade')\n",
    "\n",
    "# Exibindo o gráfico\n",
    "plt.show()"
   ]
  },
  {
   "cell_type": "markdown",
   "metadata": {},
   "source": [
    "Resultados - F1-Score"
   ]
  },
  {
   "cell_type": "code",
   "execution_count": 28,
   "metadata": {},
   "outputs": [
    {
     "data": {
      "image/png": "[encoded data removed]",
      "text/plain": [
       "<Figure size 432x288 with 1 Axes>"
      ]
     },
     "metadata": {
      "needs_background": "light"
     },
     "output_type": "display_data"
    }
   ],
   "source": [
    "import matplotlib.pyplot as plt\n",
    "\n",
    "# Dados\n",
    "dados = [ad_f1score, rl_f1score, nb_f1score, knn_f1score, rn_f1score]\n",
    "\n",
    "# Criando lista de índices para o eixo x\n",
    "indices = ['Arvore D.', 'Regressao L.', 'NBG', ' K-NN', 'Redes Neurais']\n",
    "\n",
    "# Criando lista de cores para cada barra\n",
    "cores = ['#003f5c', '#2f4b7c', '#665191', '#a05195', '#d45087']\n",
    "\n",
    "# Criando figura e eixos\n",
    "fig, ax = plt.subplots()\n",
    "\n",
    "# Adicionando barras ao gráfico\n",
    "ax.bar(indices, dados, color=cores)\n",
    "\n",
    "# Definindo limites para o eixo y\n",
    "ax.set_ylim(80, 100.5)\n",
    "\n",
    "# Definindo valores para o eixo y e ajustando posição do rótulo\n",
    "ax.set_yticks([80, 85, 90, 95, 100])\n",
    "ax.yaxis.set_label_coords(-0.1, 0.5)\n",
    "\n",
    "# Adicionando rótulos aos eixos\n",
    "ax.set_ylabel('Porcentagens em %')\n",
    "\n",
    "# Adicionando título\n",
    "fig.suptitle('F1-Score')\n",
    "\n",
    "# Exibindo o gráfico\n",
    "plt.show()"
   ]
  },
  {
   "cell_type": "code",
   "execution_count": 29,
   "metadata": {},
   "outputs": [
    {
     "data": {
      "image/png": "[encoded data removed]",
      "text/plain": [
       "<Figure size 432x288 with 1 Axes>"
      ]
     },
     "metadata": {
      "needs_background": "light"
     },
     "output_type": "display_data"
    }
   ],
   "source": [
    "import matplotlib.pyplot as plt\n",
    "\n",
    "# Dados\n",
    "dados = [ad_time, rl_time, nb_time, knn_time, rn_time]\n",
    "\n",
    "# Criando lista de índices para o eixo x em ordem crescente\n",
    "indices = ['Arvore D.', 'Regressao L.', 'NBG', ' K-NN', 'Redes Neurais']\n",
    "\n",
    "# Ordenando os dados em ordem crescente\n",
    "dados, indices = zip(*sorted(zip(dados, indices)))\n",
    "\n",
    "# Criando figura e eixos\n",
    "fig, ax = plt.subplots()\n",
    "\n",
    "# Adicionando linha ao gráfico\n",
    "ax.plot(indices, dados)\n",
    "\n",
    "# Definindo rótulos aos eixos\n",
    "ax.set_ylabel('Segundos')\n",
    "\n",
    "# Adicionando título\n",
    "fig.suptitle('Tempo de Processamento em ordem crescente')\n",
    "\n",
    "# Exibindo o gráfico\n",
    "plt.show()"
   ]
  },
  {
   "cell_type": "code",
   "execution_count": 13,
   "metadata": {},
   "outputs": [
    {
     "name": "stdout",
     "output_type": "stream",
     "text": [
      "Collecting graphviz\n",
      "  Downloading graphviz-0.20.1-py3-none-any.whl (47 kB)\n",
      "Installing collected packages: graphviz\n",
      "Successfully installed graphviz-0.20.1\n"
     ]
    }
   ],
   "source": [
    "!pip install graphviz"
   ]
  },
  {
   "cell_type": "code",
   "execution_count": 15,
   "metadata": {},
   "outputs": [
    {
     "ename": "AttributeError",
     "evalue": "'numpy.ndarray' object has no attribute 'columns'",
     "output_type": "error",
     "traceback": [
      "\u001b[1;31m---------------------------------------------------------------------------\u001b[0m",
      "\u001b[1;31mAttributeError\u001b[0m                            Traceback (most recent call last)",
      "\u001b[1;32m<ipython-input-15-d9e4dbeff9f1>\u001b[0m in \u001b[0;36m<module>\u001b[1;34m\u001b[0m\n\u001b[0;32m      9\u001b[0m \u001b[1;31m# Exportando a árvore de decisão para um arquivo .dot\u001b[0m\u001b[1;33m\u001b[0m\u001b[1;33m\u001b[0m\u001b[1;33m\u001b[0m\u001b[0m\n\u001b[0;32m     10\u001b[0m dot_data = export_graphviz(clf, out_file=None, \n\u001b[1;32m---> 11\u001b[1;33m                            \u001b[0mfeature_names\u001b[0m\u001b[1;33m=\u001b[0m\u001b[0mXdata\u001b[0m\u001b[1;33m.\u001b[0m\u001b[0mcolumns\u001b[0m\u001b[1;33m,\u001b[0m\u001b[1;33m\u001b[0m\u001b[1;33m\u001b[0m\u001b[0m\n\u001b[0m\u001b[0;32m     12\u001b[0m                            \u001b[0mclass_names\u001b[0m\u001b[1;33m=\u001b[0m\u001b[1;33m[\u001b[0m\u001b[1;34m'0'\u001b[0m\u001b[1;33m,\u001b[0m \u001b[1;34m'1'\u001b[0m\u001b[1;33m]\u001b[0m\u001b[1;33m,\u001b[0m\u001b[1;33m\u001b[0m\u001b[1;33m\u001b[0m\u001b[0m\n\u001b[0;32m     13\u001b[0m                            \u001b[0mfilled\u001b[0m\u001b[1;33m=\u001b[0m\u001b[1;32mTrue\u001b[0m\u001b[1;33m,\u001b[0m \u001b[0mrounded\u001b[0m\u001b[1;33m=\u001b[0m\u001b[1;32mTrue\u001b[0m\u001b[1;33m,\u001b[0m\u001b[1;33m\u001b[0m\u001b[1;33m\u001b[0m\u001b[0m\n",
      "\u001b[1;31mAttributeError\u001b[0m: 'numpy.ndarray' object has no attribute 'columns'"
     ]
    }
   ],
   "source": [
    "from sklearn.tree import export_graphviz\n",
    "import graphviz \n",
    "import numpy\n",
    "\n",
    "# Treinamento da árvore de decisão\n",
    "clf = DecisionTreeClassifier(random_state=42)\n",
    "clf.fit(X_train_resampled, y_train_resampled)\n",
    "\n",
    "# Exportando a árvore de decisão para um arquivo .dot\n",
    "dot_data = export_graphviz(clf, out_file=None, \n",
    "                           feature_names=Xdata.columns,  \n",
    "                           class_names=['0', '1'],  \n",
    "                           filled=True, rounded=True,  \n",
    "                           special_characters=True)\n",
    "graph = graphviz.Source(dot_data)\n",
    "\n",
    "# Exibindo a imagem da árvore de decisão na tela\n",
    "graph.render('arvore-decisao', format='png')\n",
    "graph.view()"
   ]
  },
  {
   "cell_type": "code",
   "execution_count": null,
   "metadata": {},
   "outputs": [],
   "source": []
  }
 ],
 "metadata": {
  "kernelspec": {
   "display_name": "Python 3",
   "language": "python",
   "name": "python3"
  },
  "language_info": {
   "codemirror_mode": {
    "name": "ipython",
    "version": 3
   },
   "file_extension": ".py",
   "mimetype": "text/x-python",
   "name": "python",
   "nbconvert_exporter": "python",
   "pygments_lexer": "ipython3",
   "version": "3.8.5"
  }
 },
 "nbformat": 4,
 "nbformat_minor": 4
}
