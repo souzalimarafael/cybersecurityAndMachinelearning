{
 "cells": [
  {
   "cell_type": "code",
   "execution_count": 1,
   "metadata": {},
   "outputs": [],
   "source": [
    "import pandas as pd\n",
    "data = pd.read_csv(\"Neural Network/CTU-13-Dataset/CTU-13-Dataset/1/capture20110810.binetflow\")\n",
    "data['Label'] = data.Label.str.contains(\"Botnet\")"
   ]
  },
  {
   "cell_type": "code",
   "execution_count": 3,
   "metadata": {},
   "outputs": [
    {
     "data": {
      "text/plain": [
       "Index(['StartTime', 'Dur', 'Proto', 'SrcAddr', 'Sport', 'Dir', 'DstAddr',\n",
       "       'Dport', 'State', 'sTos', 'dTos', 'TotPkts', 'TotBytes', 'SrcBytes',\n",
       "       'Label'],\n",
       "      dtype='object')"
      ]
     },
     "execution_count": 3,
     "metadata": {},
     "output_type": "execute_result"
    }
   ],
   "source": [
    "data.columns"
   ]
  },
  {
   "cell_type": "code",
   "execution_count": 4,
   "metadata": {},
   "outputs": [],
   "source": [
    "import LoadData\n",
    "import DataPreparation\n",
    "import pickle\n",
    "file = open('flowdata.pickle', 'rb')\n",
    "data  = pickle.load(file, encoding='latin1')"
   ]
  },
  {
   "cell_type": "code",
   "execution_count": 5,
   "metadata": {},
   "outputs": [],
   "source": [
    "Xdata = data[0]\n",
    "Ydata =  data[1]\n",
    "XdataT = data[2]\n",
    "YdataT = data[3]"
   ]
  },
  {
   "cell_type": "code",
   "execution_count": 6,
   "metadata": {},
   "outputs": [],
   "source": [
    "from sklearn.linear_model import *\n",
    "from sklearn.tree import *\n",
    "from sklearn.naive_bayes import *\n",
    "from sklearn.neighbors import *"
   ]
  },
  {
   "cell_type": "code",
   "execution_count": 7,
   "metadata": {},
   "outputs": [
    {
     "data": {
      "text/plain": [
       "<Prepare(Thread-6, initial)>"
      ]
     },
     "execution_count": 7,
     "metadata": {},
     "output_type": "execute_result"
    }
   ],
   "source": [
    "DataPreparation.Prepare(Xdata,Ydata,XdataT,YdataT)"
   ]
  },
  {
   "cell_type": "markdown",
   "metadata": {},
   "source": [
    "Modelo de árvore de decisão:"
   ]
  },
  {
   "cell_type": "code",
   "execution_count": 8,
   "metadata": {},
   "outputs": [
    {
     "name": "stdout",
     "output_type": "stream",
     "text": [
      "Acuracia: 0.9996250468691413\n",
      "Precisao: 0.9992563212692117\n",
      "Sensitividade: 1.0\n",
      "F1-Score: 0.999628022318661\n",
      "Tempo de processamento: 5.45 segundos\n"
     ]
    }
   ],
   "source": [
    "from sklearn.model_selection import train_test_split, GridSearchCV\n",
    "from imblearn.under_sampling import RandomUnderSampler\n",
    "from sklearn.metrics import accuracy_score, precision_score, recall_score, f1_score\n",
    "import time\n",
    "\n",
    "# Dividindo os dados em conjunto de treinamento e conjunto de teste\n",
    "X_train, X_test, y_train, y_test = train_test_split(Xdata, Ydata, test_size=0.2, random_state=42)\n",
    "\n",
    "# Balanceando as classes usando undersampling\n",
    "rus = RandomUnderSampler(random_state=42)\n",
    "X_train_resampled, y_train_resampled = rus.fit_resample(X_train, y_train)\n",
    "\n",
    "# Ajustando hiperparâmetros com validação cruzada\n",
    "params = {'max_depth': [3, 5, 7], 'min_samples_split': [2, 5, 10], 'min_samples_leaf': [1, 2, 4]}\n",
    "clf = GridSearchCV(DecisionTreeClassifier(random_state=42), params, cv=5)\n",
    "\n",
    "# Medindo o tempo de processamento do treinamento do modelo\n",
    "start_time = time.time()\n",
    "clf.fit(X_train_resampled, y_train_resampled)\n",
    "end_time = time.time()\n",
    "\n",
    "# Calculando o tempo de processamento\n",
    "processing_time = end_time - start_time\n",
    "\n",
    "# Fazendo previsões no conjunto de teste\n",
    "y_pred = clf.predict(X_test)\n",
    "\n",
    "# Calculando as métricas\n",
    "accuracy = accuracy_score(y_test, y_pred)\n",
    "precision = precision_score(y_test, y_pred)\n",
    "recall = recall_score(y_test, y_pred)\n",
    "f1 = f1_score(y_test, y_pred)\n",
    "\n",
    "# Imprimindo as métricas\n",
    "print(\"Acuracia:\", accuracy)\n",
    "print(\"Precisao:\", precision)\n",
    "print(\"Sensitividade:\", recall)\n",
    "print(\"F1-Score:\", f1)\n",
    "print(\"Tempo de processamento:\", round(processing_time, 2), \"segundos\")\n",
    "\n",
    "#armazenando as métricas m variáveis\n",
    "ad_acuracia = round(accuracy * 100, 2)\n",
    "ad_precisao = round(precision * 100, 2)\n",
    "ad_sensitividade = round(recall * 100, 2)\n",
    "ad_f1score = round(f1 * 100, 2)\n",
    "ad_time = round(processing_time, 2)"
   ]
  },
  {
   "cell_type": "markdown",
   "metadata": {},
   "source": [
    "Modelo de regressão logística :"
   ]
  },
  {
   "cell_type": "code",
   "execution_count": 9,
   "metadata": {},
   "outputs": [
    {
     "name": "stdout",
     "output_type": "stream",
     "text": [
      "Acuracia: 96.83 %\n",
      "Precisao: 94.14 %\n",
      "Sensitividade: 99.88 %\n",
      "F1-score: 96.92 %\n",
      "Tempo de processamento: 4.56 segundos\n"
     ]
    }
   ],
   "source": [
    "from sklearn.linear_model import LogisticRegression\n",
    "from sklearn.model_selection import train_test_split\n",
    "from sklearn.preprocessing import StandardScaler\n",
    "from sklearn.feature_selection import SelectKBest, f_classif\n",
    "from sklearn.pipeline import Pipeline\n",
    "from sklearn.model_selection import GridSearchCV\n",
    "from sklearn.metrics import precision_score, recall_score, f1_score\n",
    "import time\n",
    "\n",
    "# Pré-processamento de dados\n",
    "scaler = StandardScaler()\n",
    "Xdata = scaler.fit_transform(Xdata)\n",
    "XdataT = scaler.transform(XdataT)\n",
    "\n",
    "# Seleção de recursos\n",
    "selector = SelectKBest(f_classif, k='all')\n",
    "Xdata = selector.fit_transform(Xdata, Ydata)\n",
    "XdataT = selector.transform(XdataT)\n",
    "\n",
    "# Ajuste de hiperparâmetros\n",
    "pipeline = Pipeline([\n",
    "    ('clf', LogisticRegression())\n",
    "])\n",
    "\n",
    "parameters = {\n",
    "    'clf__C': [0.001, 0.01, 0.1, 1, 10, 100, 1000, 10000]\n",
    "}\n",
    "\n",
    "clf = GridSearchCV(pipeline, parameters, cv=5)\n",
    "\n",
    "# Medindo o tempo de processamento do treinamento do modelo\n",
    "start_time = time.time()\n",
    "clf.fit(Xdata, Ydata)\n",
    "end_time = time.time()\n",
    "\n",
    "# Calculando o tempo de processamento\n",
    "processing_time = end_time - start_time\n",
    "\n",
    "# Avaliação do modelo\n",
    "Score = clf.score(XdataT, YdataT)\n",
    "Prediction = clf.predict(XdataT)\n",
    "precision = precision_score(YdataT, Prediction)\n",
    "recall = recall_score(YdataT, Prediction)\n",
    "f1 = f1_score(YdataT, Prediction)\n",
    "\n",
    "#métricas\n",
    "print(\"Acuracia:\", round(Score * 100, 2), \"%\")\n",
    "print(\"Precisao:\", round(precision * 100, 2), \"%\")\n",
    "print(\"Sensitividade:\", round(recall * 100, 2), \"%\")\n",
    "print(\"F1-score:\", round(f1 * 100, 2), \"%\")\n",
    "print(\"Tempo de processamento:\", round(processing_time, 2), \"segundos\")\n",
    "\n",
    "rl_acuracia = round(Score * 100, 2)\n",
    "rl_precisao = round(precision * 100, 2)\n",
    "rl_sensitividade = round(recall * 100, 2)\n",
    "rl_f1score = round(f1 * 100, 2)\n",
    "rl_time = round(processing_time, 2)"
   ]
  },
  {
   "cell_type": "markdown",
   "metadata": {},
   "source": [
    "Modelo Gaussiano Naive Bayes :"
   ]
  },
  {
   "cell_type": "code",
   "execution_count": 10,
   "metadata": {},
   "outputs": [
    {
     "name": "stdout",
     "output_type": "stream",
     "text": [
      "Acuracia: 98.19 %\n",
      "Precisao: 96.63 %\n",
      "Sensitividade: 99.86 %\n",
      "F1-score: 98.22 %\n",
      "Tempo de processamento: 0.76 segundos\n"
     ]
    }
   ],
   "source": [
    "from sklearn.naive_bayes import GaussianNB\n",
    "from sklearn.metrics import precision_score, recall_score, f1_score\n",
    "from sklearn.model_selection import GridSearchCV\n",
    "from sklearn.feature_selection import SelectKBest, f_classif\n",
    "from sklearn.pipeline import Pipeline\n",
    "from sklearn.preprocessing import StandardScaler\n",
    "import time\n",
    "\n",
    "# Pré-processamento de dados\n",
    "scaler = StandardScaler()\n",
    "Xdata = scaler.fit_transform(Xdata)\n",
    "XdataT = scaler.transform(XdataT)\n",
    "\n",
    "# Seleção de recursos\n",
    "selector = SelectKBest(f_classif, k='all')\n",
    "Xdata = selector.fit_transform(Xdata, Ydata)\n",
    "XdataT = selector.transform(XdataT)\n",
    "\n",
    "# Ajuste de hiperparâmetros\n",
    "pipeline = Pipeline([\n",
    "    ('clf', GaussianNB())\n",
    "])\n",
    "\n",
    "parameters = {\n",
    "    'clf__var_smoothing': [1e-10, 1e-9, 1e-8, 1e-7, 1e-6, 1e-5, 1e-4, 1e-3, 1e-2]\n",
    "}\n",
    "\n",
    "clf = GridSearchCV(pipeline, parameters, cv=5)\n",
    "\n",
    "# Medindo o tempo de processamento do treinamento do modelo\n",
    "start_time = time.time()\n",
    "clf.fit(Xdata, Ydata)\n",
    "end_time = time.time()\n",
    "\n",
    "# Calculando o tempo de processamento\n",
    "processing_time = end_time - start_time\n",
    "\n",
    "# Avaliação do modelo\n",
    "Prediction = clf.predict(XdataT)\n",
    "Score = clf.score(XdataT, YdataT)\n",
    "precision = precision_score(YdataT, Prediction)\n",
    "recall = recall_score(YdataT, Prediction)\n",
    "f1 = f1_score(YdataT, Prediction)\n",
    "\n",
    "#métricas\n",
    "print(\"Acuracia:\", round(Score * 100, 2), \"%\")\n",
    "print(\"Precisao:\", round(precision * 100, 2), \"%\")\n",
    "print(\"Sensitividade:\", round(recall * 100, 2), \"%\")\n",
    "print(\"F1-score:\", round(f1 * 100, 2), \"%\")\n",
    "print(\"Tempo de processamento:\", round(processing_time, 2), \"segundos\")\n",
    "\n",
    "nb_acuracia = round(Score * 100, 2)\n",
    "nb_precisao = round(precision * 100, 2)\n",
    "nb_sensitividade = round(recall * 100, 2)\n",
    "nb_f1score = round(f1 * 100, 2)\n",
    "nb_time = round(processing_time, 2)"
   ]
  },
  {
   "cell_type": "markdown",
   "metadata": {},
   "source": [
    "Modelo de k-vizinhos mais próximos :"
   ]
  },
  {
   "cell_type": "code",
   "execution_count": 11,
   "metadata": {},
   "outputs": [
    {
     "name": "stdout",
     "output_type": "stream",
     "text": [
      "Acuracia: 0.9908018396320736\n",
      "Precisao: 98.33 %\n",
      "Sensibilidade: 99.86 %\n",
      "F1-score: 99.09 %\n",
      "Tempo de processamento: 0.14 segundos\n"
     ]
    }
   ],
   "source": [
    "from sklearn.neighbors import KNeighborsClassifier\n",
    "from sklearn.metrics import accuracy_score, precision_score, recall_score, f1_score\n",
    "import time\n",
    "\n",
    "# Criando o classificador\n",
    "clf = KNeighborsClassifier()\n",
    "\n",
    "# Treinando o modelo\n",
    "start_time = time.time()\n",
    "clf.fit(Xdata, Ydata)\n",
    "end_time = time.time()\n",
    "\n",
    "# Calculando o tempo de processamento\n",
    "processing_time = end_time - start_time\n",
    "\n",
    "# Fazendo previsões\n",
    "Prediction = clf.predict(XdataT)\n",
    "\n",
    "# Calculando as métricas\n",
    "accuracy = accuracy_score(YdataT, Prediction)\n",
    "precision = precision_score(YdataT, Prediction)\n",
    "recall = recall_score(YdataT, Prediction)\n",
    "f1 = f1_score(YdataT, Prediction)\n",
    "\n",
    "# Imprimindo as métricas\n",
    "print(\"Acuracia:\", accuracy)\n",
    "print(\"Precisao:\", round(precision * 100, 2), \"%\")\n",
    "print(\"Sensibilidade:\", round(recall * 100, 2), \"%\")\n",
    "print(\"F1-score:\", round(f1 * 100, 2), \"%\")\n",
    "print(\"Tempo de processamento:\", round(processing_time, 2), \"segundos\")\n",
    "\n",
    "knn_acuracia =  round(accuracy * 100, 2)\n",
    "knn_precisao = round(precision * 100, 2)\n",
    "knn_sensitividade = round(recall * 100, 2)\n",
    "knn_f1score = round(f1 * 100, 2)\n",
    "knn_time = round(processing_time, 2)"
   ]
  },
  {
   "cell_type": "markdown",
   "metadata": {},
   "source": [
    "Modelo de rede neural :"
   ]
  },
  {
   "cell_type": "code",
   "execution_count": 12,
   "metadata": {},
   "outputs": [
    {
     "name": "stdout",
     "output_type": "stream",
     "text": [
      "Epoch 1/150\n"
     ]
    },
    {
     "name": "stderr",
     "output_type": "stream",
     "text": [
      "D:\\Anaconda\\lib\\site-packages\\keras\\optimizers\\legacy\\adam.py:117: UserWarning: The `lr` argument is deprecated, use `learning_rate` instead.\n",
      "  super().__init__(name, **kwargs)\n"
     ]
    },
    {
     "name": "stdout",
     "output_type": "stream",
     "text": [
      "501/501 [==============================] - 5s 7ms/step - loss: 0.1495 - accuracy: 0.9542 - val_loss: 0.0248 - val_accuracy: 0.9985\n",
      "Epoch 2/150\n",
      "501/501 [==============================] - 4s 7ms/step - loss: 0.0871 - accuracy: 0.9769 - val_loss: 0.0145 - val_accuracy: 0.9998\n",
      "Epoch 3/150\n",
      "501/501 [==============================] - 3s 7ms/step - loss: 0.0796 - accuracy: 0.9795 - val_loss: 0.0211 - val_accuracy: 0.9990\n",
      "Epoch 4/150\n",
      "501/501 [==============================] - 3s 7ms/step - loss: 0.0752 - accuracy: 0.9808 - val_loss: 0.0137 - val_accuracy: 0.9991\n",
      "Epoch 5/150\n",
      "501/501 [==============================] - 3s 7ms/step - loss: 0.0727 - accuracy: 0.9816 - val_loss: 0.0166 - val_accuracy: 0.9990\n",
      "Epoch 6/150\n",
      "501/501 [==============================] - 3s 7ms/step - loss: 0.0713 - accuracy: 0.9817 - val_loss: 0.0185 - val_accuracy: 0.9995\n",
      "Epoch 7/150\n",
      "501/501 [==============================] - 3s 7ms/step - loss: 0.0687 - accuracy: 0.9817 - val_loss: 0.0133 - val_accuracy: 0.9989\n",
      "Epoch 8/150\n",
      "501/501 [==============================] - 4s 7ms/step - loss: 0.0658 - accuracy: 0.9826 - val_loss: 0.0148 - val_accuracy: 0.9989\n",
      "Epoch 9/150\n",
      "501/501 [==============================] - 3s 7ms/step - loss: 0.0640 - accuracy: 0.9828 - val_loss: 0.0078 - val_accuracy: 0.9993\n",
      "Epoch 10/150\n",
      "501/501 [==============================] - 4s 7ms/step - loss: 0.0642 - accuracy: 0.9825 - val_loss: 0.0178 - val_accuracy: 0.9990\n",
      "Epoch 11/150\n",
      "501/501 [==============================] - 4s 7ms/step - loss: 0.0633 - accuracy: 0.9824 - val_loss: 0.0227 - val_accuracy: 0.9991\n",
      "Epoch 12/150\n",
      "501/501 [==============================] - 4s 7ms/step - loss: 0.0619 - accuracy: 0.9829 - val_loss: 0.0109 - val_accuracy: 0.9983\n",
      "Epoch 13/150\n",
      "501/501 [==============================] - 4s 7ms/step - loss: 0.0604 - accuracy: 0.9833 - val_loss: 0.0158 - val_accuracy: 0.9985\n",
      "Epoch 14/150\n",
      "501/501 [==============================] - 4s 7ms/step - loss: 0.0584 - accuracy: 0.9832 - val_loss: 0.0146 - val_accuracy: 0.9994\n",
      "Epoch 15/150\n",
      "501/501 [==============================] - 4s 7ms/step - loss: 0.0580 - accuracy: 0.9836 - val_loss: 0.0116 - val_accuracy: 0.9993\n",
      "Epoch 16/150\n",
      "501/501 [==============================] - 4s 7ms/step - loss: 0.0573 - accuracy: 0.9839 - val_loss: 0.0254 - val_accuracy: 0.9990\n",
      "Epoch 17/150\n",
      "501/501 [==============================] - 3s 7ms/step - loss: 0.0540 - accuracy: 0.9848 - val_loss: 0.0194 - val_accuracy: 0.9971\n",
      "Epoch 18/150\n",
      "501/501 [==============================] - 3s 7ms/step - loss: 0.0553 - accuracy: 0.9845 - val_loss: 0.0146 - val_accuracy: 0.9979\n",
      "Epoch 19/150\n",
      "501/501 [==============================] - 3s 7ms/step - loss: 0.0534 - accuracy: 0.9847 - val_loss: 0.0084 - val_accuracy: 0.9993\n",
      "313/313 [==============================] - 1s 2ms/step\n",
      "Acuracia: 98.28 %\n",
      "Precisao: 96.69 %\n",
      "Sensitividade: 99.98 %\n",
      "F1-score: 98.31 %\n",
      "Tempo de processamento: 68.27 segundos\n"
     ]
    }
   ],
   "source": [
    "from keras.models import Sequential\n",
    "from keras.layers import Dense, Activation, Dropout\n",
    "from keras.optimizers import Adam\n",
    "from sklearn.preprocessing import StandardScaler\n",
    "from sklearn.decomposition import PCA\n",
    "from keras.callbacks import EarlyStopping\n",
    "from keras import regularizers\n",
    "from sklearn.metrics import precision_score, recall_score, f1_score\n",
    "import time\n",
    "\n",
    "# normaliza os dados\n",
    "scaler = StandardScaler()\n",
    "Xdata_norm = scaler.fit_transform(Xdata)\n",
    "XdataT_norm = scaler.transform(XdataT)\n",
    "\n",
    "# reduz a dimensionalidade dos dados\n",
    "pca = PCA(n_components=5)\n",
    "Xdata_pca = pca.fit_transform(Xdata_norm)\n",
    "XdataT_pca = pca.transform(XdataT_norm)\n",
    "\n",
    "# define a arquitetura da rede neural\n",
    "model = Sequential()\n",
    "model.add(Dense(512, input_dim=Xdata_pca.shape[1], activation=\"relu\"))\n",
    "model.add(Dropout(0.2))\n",
    "model.add(Dense(256, activation=\"relu\"))\n",
    "model.add(Dropout(0.2))\n",
    "model.add(Dense(128, activation=\"relu\"))\n",
    "model.add(Dropout(0.2))\n",
    "model.add(Dense(64, activation=\"relu\"))\n",
    "model.add(Dropout(0.2))\n",
    "model.add(Dense(32, activation=\"relu\"))\n",
    "model.add(Dropout(0.2))\n",
    "model.add(Dense(16, activation=\"relu\"))\n",
    "model.add(Dropout(0.2))\n",
    "model.add(Dense(8, activation=\"relu\"))\n",
    "model.add(Dense(1, activation=\"sigmoid\", kernel_regularizer=regularizers.l1_l2(l1=0.001, l2=0.001)))\n",
    "\n",
    "# compila a rede neural\n",
    "optimizer = Adam(lr=0.0005, decay=1e-6)\n",
    "model.compile(loss='binary_crossentropy', optimizer=optimizer, metrics=['accuracy'])\n",
    "\n",
    "# treina a rede neural\n",
    "start_time = time.time()\n",
    "early_stopping = EarlyStopping(monitor='val_loss', patience=10)\n",
    "model.fit(Xdata_pca, Ydata, epochs=150, batch_size=64, validation_split=0.2, callbacks=[early_stopping])\n",
    "end_time = time.time()\n",
    "\n",
    "# Calculando o tempo de processamento\n",
    "processing_time = end_time - start_time\n",
    "\n",
    "# avalia a rede neural\n",
    "loss, accuracy = model.evaluate(XdataT_pca, YdataT, verbose=0)\n",
    "Y_pred = model.predict(XdataT_pca)\n",
    "Y_pred_class = (Y_pred > 0.5).astype(int)\n",
    "precision = precision_score(YdataT, Y_pred_class)\n",
    "recall = recall_score(YdataT, Y_pred_class)\n",
    "f1 = f1_score(YdataT, Y_pred_class)\n",
    "\n",
    "#métricas\n",
    "print(\"Acuracia:\", round(accuracy * 100, 2), \"%\")\n",
    "print(\"Precisao:\", round(precision * 100, 2), \"%\")\n",
    "print(\"Sensitividade:\", round(recall * 100, 2), \"%\")\n",
    "print(\"F1-score:\", round(f1 * 100, 2), \"%\")\n",
    "print(\"Tempo de processamento:\", round(processing_time, 2), \"segundos\")\n",
    "\n",
    "rn_acuracia = round(accuracy * 100, 2)\n",
    "rn_precisao = round(precision * 100, 2)\n",
    "rn_sensitividade = round(recall * 100, 2)\n",
    "rn_f1score = round(f1 * 100, 2)\n",
    "rn_time = round(processing_time, 2)"
   ]
  },
  {
   "cell_type": "markdown",
   "metadata": {},
   "source": [
    "Resultados - Acuracia"
   ]
  },
  {
   "cell_type": "code",
   "execution_count": 28,
   "metadata": {},
   "outputs": [
    {
     "data": {
      "image/png": "[encoded data removed]",
      "text/plain": [
       "<Figure size 432x288 with 1 Axes>"
      ]
     },
     "metadata": {
      "needs_background": "light"
     },
     "output_type": "display_data"
    }
   ],
   "source": [
    "import matplotlib.pyplot as plt\n",
    "\n",
    "# Dados\n",
    "dados = [ad_acuracia, rl_acuracia, nb_acuracia, knn_acuracia, rn_acuracia]\n",
    "\n",
    "# Criando lista de índices para o eixo x\n",
    "indices = ['Arvore D.', 'Regressao L.', 'NBG', ' K-NN', 'Redes Neurais']\n",
    "\n",
    "# Criando lista de cores para cada barra\n",
    "cores = ['#003f5c', '#2f4b7c', '#665191', '#a05195', '#d45087']\n",
    "\n",
    "# Criando figura e eixos\n",
    "fig, ax = plt.subplots()\n",
    "\n",
    "# Adicionando barras ao gráfico\n",
    "ax.bar(indices, dados, color=cores)\n",
    "\n",
    "# Definindo limites para o eixo y\n",
    "ax.set_ylim(80, 100.5)\n",
    "\n",
    "# Definindo valores para o eixo y e ajustando posição do rótulo\n",
    "ax.set_yticks([80, 85, 90, 95, 100])\n",
    "ax.yaxis.set_label_coords(-0.1, 0.5)\n",
    "\n",
    "# Adicionando rótulos aos eixos\n",
    "ax.set_ylabel('Porcentagens em %')\n",
    "\n",
    "# Adicionando título\n",
    "fig.suptitle('Acurácia')\n",
    "\n",
    "# Exibindo o gráfico\n",
    "plt.show()"
   ]
  },
  {
   "cell_type": "markdown",
   "metadata": {},
   "source": [
    "Resultados - Precisão"
   ]
  },
  {
   "cell_type": "code",
   "execution_count": 30,
   "metadata": {},
   "outputs": [
    {
     "data": {
      "image/png": "[encoded data removed]",
      "text/plain": [
       "<Figure size 432x288 with 1 Axes>"
      ]
     },
     "metadata": {
      "needs_background": "light"
     },
     "output_type": "display_data"
    }
   ],
   "source": [
    "import matplotlib.pyplot as plt\n",
    "\n",
    "# Dados\n",
    "dados = [ad_precisao, rl_precisao, nb_precisao, knn_precisao, rn_precisao]\n",
    "\n",
    "# Criando lista de índices para o eixo x\n",
    "indices = ['Arvore D.', 'Regressao L.', 'NBG', ' K-NN', 'Redes Neurais']\n",
    "\n",
    "# Criando lista de cores para cada barra\n",
    "cores = ['#003f5c', '#2f4b7c', '#665191', '#a05195', '#d45087']\n",
    "\n",
    "# Criando figura e eixos\n",
    "fig, ax = plt.subplots()\n",
    "\n",
    "# Adicionando barras ao gráfico\n",
    "ax.bar(indices, dados, color=cores)\n",
    "\n",
    "# Definindo limites para o eixo y\n",
    "ax.set_ylim(80, 100.5)\n",
    "\n",
    "# Definindo valores para o eixo y e ajustando posição do rótulo\n",
    "ax.set_yticks([80, 85, 90, 95, 100])\n",
    "ax.yaxis.set_label_coords(-0.1, 0.5)\n",
    "\n",
    "# Adicionando rótulos aos eixos\n",
    "ax.set_ylabel('Porcentagens em %')\n",
    "\n",
    "# Adicionando título\n",
    "fig.suptitle('Precisão')\n",
    "\n",
    "# Exibindo o gráfico\n",
    "plt.show()"
   ]
  },
  {
   "cell_type": "markdown",
   "metadata": {},
   "source": [
    "Resultados - Sensitividade"
   ]
  },
  {
   "cell_type": "code",
   "execution_count": 33,
   "metadata": {
    "scrolled": true
   },
   "outputs": [
    {
     "data": {
      "image/png": "[encoded data removed]",
      "text/plain": [
       "<Figure size 432x288 with 1 Axes>"
      ]
     },
     "metadata": {
      "needs_background": "light"
     },
     "output_type": "display_data"
    }
   ],
   "source": [
    "import matplotlib.pyplot as plt\n",
    "\n",
    "# Dados\n",
    "dados = [ad_sensitividade, rl_sensitividade, nb_sensitividade, knn_sensitividade, rn_sensitividade]\n",
    "\n",
    "# Criando lista de índices para o eixo x\n",
    "indices = ['Arvore D.', 'Regressao L.', 'NBG', ' K-NN', 'Redes Neurais']\n",
    "\n",
    "# Criando lista de cores para cada barra\n",
    "cores = ['#003f5c', '#2f4b7c', '#665191', '#a05195', '#d45087']\n",
    "\n",
    "# Criando figura e eixos\n",
    "fig, ax = plt.subplots()\n",
    "\n",
    "# Adicionando barras ao gráfico\n",
    "ax.bar(indices, dados, color=cores)\n",
    "\n",
    "# Definindo limites para o eixo y\n",
    "ax.set_ylim(95, 100.5)\n",
    "\n",
    "# Definindo valores para o eixo y e ajustando posição do rótulo\n",
    "ax.set_yticks([96, 97, 98, 99, 100])\n",
    "ax.yaxis.set_label_coords(-0.1, 0.5)\n",
    "\n",
    "# Adicionando rótulos aos eixos\n",
    "ax.set_ylabel('Porcentagens em %')\n",
    "\n",
    "# Adicionando título\n",
    "fig.suptitle('Sensitividade')\n",
    "\n",
    "# Exibindo o gráfico\n",
    "plt.show()"
   ]
  },
  {
   "cell_type": "markdown",
   "metadata": {},
   "source": [
    "Resultados - F1-Score"
   ]
  },
  {
   "cell_type": "code",
   "execution_count": 35,
   "metadata": {},
   "outputs": [
    {
     "data": {
      "image/png": "[encoded data removed]",
      "text/plain": [
       "<Figure size 432x288 with 1 Axes>"
      ]
     },
     "metadata": {
      "needs_background": "light"
     },
     "output_type": "display_data"
    }
   ],
   "source": [
    "import matplotlib.pyplot as plt\n",
    "\n",
    "# Dados\n",
    "dados = [ad_f1score, rl_f1score, nb_f1score, knn_f1score, rn_f1score]\n",
    "\n",
    "# Criando lista de índices para o eixo x\n",
    "indices = ['Arvore D.', 'Regressao L.', 'NBG', ' K-NN', 'Redes Neurais']\n",
    "\n",
    "# Criando lista de cores para cada barra\n",
    "cores = ['#003f5c', '#2f4b7c', '#665191', '#a05195', '#d45087']\n",
    "\n",
    "# Criando figura e eixos\n",
    "fig, ax = plt.subplots()\n",
    "\n",
    "# Adicionando barras ao gráfico\n",
    "ax.bar(indices, dados, color=cores)\n",
    "\n",
    "# Definindo limites para o eixo y\n",
    "ax.set_ylim(80, 100.5)\n",
    "\n",
    "# Definindo valores para o eixo y e ajustando posição do rótulo\n",
    "ax.set_yticks([80, 85, 90, 95, 100])\n",
    "ax.yaxis.set_label_coords(-0.1, 0.5)\n",
    "\n",
    "# Adicionando rótulos aos eixos\n",
    "ax.set_ylabel('Porcentagens em %')\n",
    "\n",
    "# Adicionando título\n",
    "fig.suptitle('F1-Score')\n",
    "\n",
    "# Exibindo o gráfico\n",
    "plt.show()"
   ]
  },
  {
   "cell_type": "code",
   "execution_count": 42,
   "metadata": {},
   "outputs": [
    {
     "data": {
      "image/png": "[encoded data removed]",
      "text/plain": [
       "<Figure size 432x288 with 1 Axes>"
      ]
     },
     "metadata": {
      "needs_background": "light"
     },
     "output_type": "display_data"
    }
   ],
   "source": [
    "import matplotlib.pyplot as plt\n",
    "\n",
    "# Dados\n",
    "dados = [ad_time, rl_time, nb_time, knn_time, rn_time]\n",
    "\n",
    "# Criando lista de índices para o eixo x em ordem crescente\n",
    "indices = ['Arvore D.', 'Regressao L.', 'NBG', ' K-NN', 'Redes Neurais']\n",
    "\n",
    "# Ordenando os dados em ordem crescente\n",
    "dados, indices = zip(*sorted(zip(dados, indices)))\n",
    "\n",
    "# Criando figura e eixos\n",
    "fig, ax = plt.subplots()\n",
    "\n",
    "# Adicionando linha ao gráfico\n",
    "ax.plot(indices, dados)\n",
    "\n",
    "# Definindo rótulos aos eixos\n",
    "ax.set_ylabel('Segundos')\n",
    "\n",
    "# Adicionando título\n",
    "fig.suptitle('Tempo de Processamento em ordem crescente')\n",
    "\n",
    "# Exibindo o gráfico\n",
    "plt.show()"
   ]
  },
  {
   "cell_type": "code",
   "execution_count": null,
   "metadata": {},
   "outputs": [],
   "source": []
  }
 ],
 "metadata": {
  "kernelspec": {
   "display_name": "Python 3",
   "language": "python",
   "name": "python3"
  },
  "language_info": {
   "codemirror_mode": {
    "name": "ipython",
    "version": 3
   },
   "file_extension": ".py",
   "mimetype": "text/x-python",
   "name": "python",
   "nbconvert_exporter": "python",
   "pygments_lexer": "ipython3",
   "version": "3.8.5"
  }
 },
 "nbformat": 4,
 "nbformat_minor": 4
}
